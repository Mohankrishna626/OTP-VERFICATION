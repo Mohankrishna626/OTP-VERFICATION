{
  "nbformat": 4,
  "nbformat_minor": 0,
  "metadata": {
    "colab": {
      "provenance": [],
      "authorship_tag": "ABX9TyOkOJE07EDN5IHCMh/P3PVM",
      "include_colab_link": true
    },
    "kernelspec": {
      "name": "python3",
      "display_name": "Python 3"
    },
    "language_info": {
      "name": "python"
    }
  },
  "cells": [
    {
      "cell_type": "markdown",
      "metadata": {
        "id": "view-in-github",
        "colab_type": "text"
      },
      "source": [
        "<a href=\"https://colab.research.google.com/github/Mohankrishna626/OTP-VERFICATION/blob/main/OTP.ipynb\" target=\"_parent\"><img src=\"https://colab.research.google.com/assets/colab-badge.svg\" alt=\"Open In Colab\"/></a>"
      ]
    },
    {
      "cell_type": "code",
      "source": [
        "import smtplib\n",
        "import random\n",
        "from email.mime.multipart import MIMEMultipart\n",
        "from email.mime.text import MIMEText\n",
        "\n",
        "print(\"*********************************\")\n",
        "\n",
        "num_users = int(input(\"How many users do you want to send OTPs to? \"))\n",
        "for _ in range(num_users):\n",
        "\n",
        "    print(\"*************************\")\n",
        "\n",
        "    name = input(\"Enter Your Name: \")\n",
        "    otp = random.randint(1111 ,9999)\n",
        "    body = f\"OTP For Verification is {otp}\"\n",
        "\n",
        "    msg = MIMEMultipart()\n",
        "    msg [\"From\"] = \"bodamkmohan@gmail.com\"\n",
        "    msg [\"To\"] = input(\"Enter Your Email Id: \")\n",
        "    msg [\"Subject\"] = \"OTP For Validation\"\n",
        "    msg.attach(MIMEText(body,\"plain\"))\n",
        "\n",
        "    server = smtplib.SMTP(\"smtp.gmail.com\",587)\n",
        "    server.starttls()\n",
        "    server.login(\"bodamkmohan@gmail.com\",\"iast cqdo nngk hokd\")\n",
        "    server.send_message(msg)\n",
        "    server.quit()\n",
        "    attempts = 3\n",
        "    while attempts > 0:\n",
        "        confirmotp = int(input(\"Enter OTP Recieved: \"))\n",
        "        if otp == confirmotp:\n",
        "            print(\"OTP Verification Success\")\n",
        "            break\n",
        "        else:\n",
        "            attempts -= 1\n",
        "            print(f\"Invalid OTP. You have {attempts} attempt(s) left.\")\n",
        "\n",
        "    if attempts == 0:\n",
        "        print(f\"OTP verification failed for {name}. Please try again later.\")\n",
        "    print(\"\\n--- End of Verification ---\\n\")"
      ],
      "metadata": {
        "colab": {
          "base_uri": "https://localhost:8080/"
        },
        "id": "2xt9ES7NJ0Oa",
        "outputId": "0e3a124f-91fa-4d44-90e9-651965481da8"
      },
      "execution_count": null,
      "outputs": [
        {
          "output_type": "stream",
          "name": "stdout",
          "text": [
            "*********************************\n",
            "How many users do you want to send OTPs to? 1\n",
            "*************************\n",
            "Enter Your Name: Mohan krishna\n",
            "Enter Your Email Id: bodamkmohan@gmail.com\n",
            "Enter OTP Recieved: 3176\n",
            "OTP Verification Success\n",
            "\n",
            "--- End of Verification ---\n",
            "\n"
          ]
        }
      ]
    },
    {
      "cell_type": "code",
      "source": [],
      "metadata": {
        "id": "ybRSLIO-LePe"
      },
      "execution_count": null,
      "outputs": []
    }
  ]
}